{
 "cells": [
  {
   "attachments": {},
   "cell_type": "markdown",
   "metadata": {},
   "source": [
    "Data science : Homework 3\n",
    "\n",
    "6330166021 Nuttapol Onton"
   ]
  },
  {
   "cell_type": "code",
   "execution_count": 50,
   "metadata": {},
   "outputs": [],
   "source": [
    "# import library\n",
    "import pandas as pd\n",
    "import numpy as np\n",
    "from sklearn.model_selection import train_test_split, GridSearchCV\n",
    "from sklearn.ensemble import RandomForestClassifier\n",
    "from sklearn.metrics import confusion_matrix, classification_report, f1_score"
   ]
  },
  {
   "attachments": {},
   "cell_type": "markdown",
   "metadata": {},
   "source": [
    "1. Load \"ModifiedEdibleMushroom.csv\" data from the link below (note: this data set has been preliminarily prepared.)."
   ]
  },
  {
   "cell_type": "code",
   "execution_count": 54,
   "metadata": {},
   "outputs": [
    {
     "name": "stdout",
     "output_type": "stream",
     "text": [
      "(5824, 24)\n",
      "na in gill-size : 121\n"
     ]
    }
   ],
   "source": [
    "# !wget \"https://github.com/kaopanboonyuen/Python-Data-Science/raw/master/Dataset/hed2020_dataset.csv\"\n",
    "df = pd.read_csv('hed2020_dataset.csv')\n",
    "print(df.shape)\n",
    "print('na in gill-size :', df['gill-size'].isnull().sum())"
   ]
  },
  {
   "cell_type": "markdown",
   "metadata": {},
   "source": []
  },
  {
   "attachments": {},
   "cell_type": "markdown",
   "metadata": {},
   "source": [
    "2. Drop rows where the target (label) variable is missing."
   ]
  },
  {
   "cell_type": "code",
   "execution_count": 55,
   "metadata": {},
   "outputs": [
    {
     "data": {
      "text/plain": [
       "(5764, 24)"
      ]
     },
     "execution_count": 55,
     "metadata": {},
     "output_type": "execute_result"
    }
   ],
   "source": [
    "df.dropna(axis = 0, subset=['label'], inplace = True)\n",
    "df.shape\n",
    "    "
   ]
  },
  {
   "attachments": {},
   "cell_type": "markdown",
   "metadata": {},
   "source": [
    "3. Drop the following variables:\n",
    "\n",
    "'id','gill-attachment', 'gill-spacing', 'gill-size','gill-color-rate',\n",
    "'stalk-root', 'stalk-surface-above-ring', 'stalk-surface-below-ring', 'stalk-color-above-ring-rate','stalk-color-below-ring-rate','veil-color-rate','veil-type'"
   ]
  },
  {
   "cell_type": "code",
   "execution_count": 56,
   "metadata": {},
   "outputs": [
    {
     "name": "stdout",
     "output_type": "stream",
     "text": [
      "drop_list len : 12\n"
     ]
    },
    {
     "data": {
      "text/plain": [
       "(5764, 12)"
      ]
     },
     "execution_count": 56,
     "metadata": {},
     "output_type": "execute_result"
    }
   ],
   "source": [
    "drop_list = ['id','gill-attachment', 'gill-spacing', 'gill-size','gill-color-rate','stalk-root', 'stalk-surface-above-ring', 'stalk-surface-below-ring', 'stalk-color-above-ring-rate','stalk-color-below-ring-rate','veil-color-rate','veil-type']\n",
    "print(\"drop_list len :\", len(drop_list))\n",
    "df.drop(axis=1, labels = drop_list, inplace = True)\n",
    "df.shape"
   ]
  },
  {
   "attachments": {},
   "cell_type": "markdown",
   "metadata": {},
   "source": [
    "4. Examine the number of rows, the number of digits, and whether any are missing."
   ]
  },
  {
   "cell_type": "code",
   "execution_count": 58,
   "metadata": {},
   "outputs": [
    {
     "name": "stdout",
     "output_type": "stream",
     "text": [
      "Number of rows that have missing value in each comlumn\n",
      "label               : 0                 \n",
      "cap-shape           : 0                 \n",
      "cap-surface         : 27                \n",
      "bruises             : 99                \n",
      "odor                : 99                \n",
      "stalk-shape         : 121               \n",
      "ring-number         : 62                \n",
      "ring-type           : 62                \n",
      "spore-print-color   : 56                \n",
      "population          : 56                \n",
      "habitat             : 31                \n",
      "cap-color-rate      : 27                \n",
      "(5764, 12)\n"
     ]
    }
   ],
   "source": [
    "def printMissingValue(df) :\n",
    "    col_list = df.columns\n",
    "    ans = []\n",
    "    for col in col_list:\n",
    "        tmp = []\n",
    "        tmp.append(col)\n",
    "        tmp.append(': ' + str(df[col].isnull().sum()))\n",
    "        ans.append(tmp)\n",
    "    print(\"Number of rows that have missing value in each comlumn\")\n",
    "    for row in ans:\n",
    "        print(\"\".join(word.ljust(20) for word in row))\n",
    "printMissingValue(df)\n",
    "print(df.shape)"
   ]
  },
  {
   "attachments": {},
   "cell_type": "markdown",
   "metadata": {},
   "source": [
    "5. Fill missing values by adding the mean for numeric variables and the mode for nominal variables."
   ]
  },
  {
   "cell_type": "code",
   "execution_count": 59,
   "metadata": {},
   "outputs": [
    {
     "name": "stdout",
     "output_type": "stream",
     "text": [
      "Number of rows that have missing value in each comlumn\n",
      "label               : 0                 \n",
      "cap-shape           : 0                 \n",
      "cap-surface         : 0                 \n",
      "bruises             : 0                 \n",
      "odor                : 0                 \n",
      "stalk-shape         : 0                 \n",
      "ring-number         : 0                 \n",
      "ring-type           : 0                 \n",
      "spore-print-color   : 0                 \n",
      "population          : 0                 \n",
      "habitat             : 0                 \n",
      "cap-color-rate      : 0                 \n"
     ]
    }
   ],
   "source": [
    "fill_with_mean = df.select_dtypes('number')\n",
    "fill_with_mode = df.select_dtypes('object')\n",
    "df[fill_with_mean.columns] = fill_with_mean.fillna(fill_with_mean.mean())\n",
    "df[fill_with_mode.columns] = fill_with_mode.fillna(fill_with_mode.agg(lambda x: x.mode().values[0]))\n",
    "printMissingValue(df)"
   ]
  },
  {
   "attachments": {},
   "cell_type": "markdown",
   "metadata": {},
   "source": [
    "6. Convert the label variable e (edible) to 1 and p (poisonous) to 0 and check the quantity. class0: class1"
   ]
  },
  {
   "cell_type": "code",
   "execution_count": 60,
   "metadata": {},
   "outputs": [
    {
     "name": "stdout",
     "output_type": "stream",
     "text": [
      "3660 : 2104\n"
     ]
    }
   ],
   "source": [
    "df[\"label\"] = np.where(df[\"label\"] == \"e\", 1, 0)\n",
    "print(df.shape[0] - df['label'].sum(), ':' , df['label'].sum())"
   ]
  },
  {
   "attachments": {},
   "cell_type": "markdown",
   "metadata": {},
   "source": [
    "7. Convert the nominal variable to numeric using a dummy code with drop_first = True."
   ]
  },
  {
   "cell_type": "code",
   "execution_count": 61,
   "metadata": {},
   "outputs": [
    {
     "data": {
      "text/plain": [
       "(5764, 43)"
      ]
     },
     "execution_count": 61,
     "metadata": {},
     "output_type": "execute_result"
    }
   ],
   "source": [
    "nominal_col = df.select_dtypes('object').columns\n",
    "dummy_df = pd.get_dummies(df[nominal_col], drop_first=True) \n",
    "df = pd.concat([df, dummy_df], axis=1)\n",
    "df = df.drop(nominal_col, axis=1)\n",
    "df.shape"
   ]
  },
  {
   "attachments": {},
   "cell_type": "markdown",
   "metadata": {},
   "source": [
    "8. Split train/test with 20% test, stratify, and seed = 2020."
   ]
  },
  {
   "cell_type": "code",
   "execution_count": 65,
   "metadata": {},
   "outputs": [
    {
     "name": "stdout",
     "output_type": "stream",
     "text": [
      "[4611, 1153]\n"
     ]
    }
   ],
   "source": [
    "input_data = df.drop(\"label\", axis = 1).values.tolist()\n",
    "output_data = df[\"label\"].values.tolist()\n",
    "x_train, x_test, y_train, y_test = train_test_split(input_data, output_data, stratify = output_data, test_size=0.20, random_state = 2020)\n",
    "print([len(x_train), len(x_test)])"
   ]
  },
  {
   "attachments": {},
   "cell_type": "markdown",
   "metadata": {},
   "source": [
    "9. Create a Random Forest with GridSearch on training data with 5 CV."
   ]
  },
  {
   "cell_type": "code",
   "execution_count": 68,
   "metadata": {},
   "outputs": [
    {
     "name": "stdout",
     "output_type": "stream",
     "text": [
      "{'criterion': 'gini', 'max_depth': 6, 'min_samples_leaf': 2, 'n_estimators': 100, 'random_state': 2020}\n"
     ]
    }
   ],
   "source": [
    "random_forest = RandomForestClassifier()\n",
    "\n",
    "param_grid = { \n",
    "    'criterion' :['gini', 'entropy'],\n",
    "    'min_samples_leaf': [2,5,10],\n",
    "    'max_depth': [2,3,6],\n",
    "    'n_estimators': [100, 200],\n",
    "    'random_state': [2020]\n",
    "}\n",
    "\n",
    "model = GridSearchCV(estimator=random_forest, param_grid=param_grid, cv= 5, scoring='accuracy')\n",
    "model.fit(x_train, y_train)\n",
    "print(model.best_params_)"
   ]
  },
  {
   "attachments": {},
   "cell_type": "markdown",
   "metadata": {},
   "source": [
    "10. Predict the testing data set with confusion_matrix and classification_report."
   ]
  },
  {
   "cell_type": "code",
   "execution_count": 69,
   "metadata": {},
   "outputs": [
    {
     "name": "stdout",
     "output_type": "stream",
     "text": [
      "Confusion matrix\n",
      "[[731   1]\n",
      " [  5 416]]\n",
      "----------------------------------------------------\n",
      "Classification report\n",
      "              precision    recall  f1-score   support\n",
      "\n",
      "           0       0.99      1.00      1.00       732\n",
      "           1       1.00      0.99      0.99       421\n",
      "\n",
      "    accuracy                           0.99      1153\n",
      "   macro avg       1.00      0.99      0.99      1153\n",
      "weighted avg       0.99      0.99      0.99      1153\n",
      "\n",
      "----------------------------------------------------\n",
      "F1 Score : 0.9928400954653938\n"
     ]
    }
   ],
   "source": [
    "y_pred = model.predict(x_test)\n",
    "\n",
    "print(\"Confusion matrix\")\n",
    "print(confusion_matrix(y_true=y_test, y_pred = y_pred))\n",
    "print('----------------------------------------------------')\n",
    "print(\"Classification report\")\n",
    "print(classification_report(y_test, y_pred))\n",
    "print('----------------------------------------------------')\n",
    "print(\"F1 Score :\", f1_score(y_test, y_pred))"
   ]
  }
 ],
 "metadata": {
  "kernelspec": {
   "display_name": "Python 3",
   "language": "python",
   "name": "python3"
  },
  "language_info": {
   "codemirror_mode": {
    "name": "ipython",
    "version": 3
   },
   "file_extension": ".py",
   "mimetype": "text/x-python",
   "name": "python",
   "nbconvert_exporter": "python",
   "pygments_lexer": "ipython3",
   "version": "3.11.1"
  },
  "orig_nbformat": 4,
  "vscode": {
   "interpreter": {
    "hash": "5c7b89af1651d0b8571dde13640ecdccf7d5a6204171d6ab33e7c296e100e08a"
   }
  }
 },
 "nbformat": 4,
 "nbformat_minor": 2
}
